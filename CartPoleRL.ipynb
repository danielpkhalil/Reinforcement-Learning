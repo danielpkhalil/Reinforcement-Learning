{
 "cells": [
  {
   "cell_type": "code",
   "execution_count": 5,
   "metadata": {},
   "outputs": [],
   "source": [
    "import gym\n",
    "import random\n",
    "import numpy as np"
   ]
  },
  {
   "cell_type": "code",
   "execution_count": 6,
   "metadata": {},
   "outputs": [
    {
     "name": "stdout",
     "output_type": "stream",
     "text": [
      "Observation space: Box([-4.8000002e+00 -3.4028235e+38 -4.1887903e-01 -3.4028235e+38], [4.8000002e+00 3.4028235e+38 4.1887903e-01 3.4028235e+38], (4,), float32)\n",
      "Action space: Discrete(2)\n"
     ]
    },
    {
     "name": "stderr",
     "output_type": "stream",
     "text": [
      "c:\\Users\\danie\\AppData\\Local\\Programs\\Python\\Python311\\Lib\\site-packages\\gym\\core.py:317: DeprecationWarning: \u001b[33mWARN: Initializing wrapper in old step API which returns one bool instead of two. It is recommended to set `new_step_api=True` to use new step API. This will be the default behaviour in future.\u001b[0m\n",
      "  deprecation(\n",
      "c:\\Users\\danie\\AppData\\Local\\Programs\\Python\\Python311\\Lib\\site-packages\\gym\\wrappers\\step_api_compatibility.py:39: DeprecationWarning: \u001b[33mWARN: Initializing environment in old step API which returns one bool instead of two. It is recommended to set `new_step_api=True` to use new step API. This will be the default behaviour in future.\u001b[0m\n",
      "  deprecation(\n",
      "c:\\Users\\danie\\AppData\\Local\\Programs\\Python\\Python311\\Lib\\site-packages\\gym\\core.py:49: DeprecationWarning: \u001b[33mWARN: You are calling render method, but you didn't specified the argument render_mode at environment initialization. To maintain backward compatibility, the environment will render in human mode.\n",
      "If you want to render in human mode, initialize the environment in this way: gym.make('EnvName', render_mode='human') and don't call the render method.\n",
      "See here for more information: https://www.gymlibrary.ml/content/api/\u001b[0m\n",
      "  deprecation(\n"
     ]
    }
   ],
   "source": [
    "env_name = \"CartPole-v1\"\n",
    "env = gym.make(env_name)\n",
    "print(\"Observation space:\", env.observation_space)\n",
    "print(\"Action space:\", env.action_space)\n",
    "state = env.reset()\n",
    "env.render()"
   ]
  },
  {
   "cell_type": "code",
   "execution_count": 7,
   "metadata": {},
   "outputs": [],
   "source": [
    "class HillClimbingAgent():\n",
    "    def __init__(self, env):\n",
    "        self.state_dim = env.observation_space.shape\n",
    "        self.action_size = env.action_space.n\n",
    "        self.build_model()\n",
    "        \n",
    "    def build_model(self):\n",
    "        self.weights = 1e-4*np.random.rand(self.state_dim[0], self.action_size)\n",
    "        self.best_reward = -np.Inf\n",
    "        self.best_weights = np.copy(self.weights)\n",
    "        self.noise_scale = 1e-2\n",
    "        \n",
    "    def get_action(self, state):\n",
    "        p = np.dot(state, self.weights)\n",
    "        action = np.argmax(p)\n",
    "        return action\n",
    "    \n",
    "    def update_model(self, reward):\n",
    "        if reward >= self.best_reward:\n",
    "            self.best_reward = reward\n",
    "            self.best_weights = np.copy(self.weights)\n",
    "            self.noise_scale = max(self.noise_scale/2, 1e-3)\n",
    "        else:\n",
    "            self.noise_scale = min(self.noise_scale*2, 2)\n",
    "            \n",
    "        self.weights = self.best_weights + self.noise_scale * np.random.rand(self.state_dim[0], self.action_size)"
   ]
  },
  {
   "cell_type": "code",
   "execution_count": 8,
   "metadata": {},
   "outputs": [
    {
     "name": "stdout",
     "output_type": "stream",
     "text": [
      "Episode: 0, total_reward: 33.00\n",
      "Episode: 1, total_reward: 10.00\n",
      "Episode: 2, total_reward: 9.00\n",
      "Episode: 3, total_reward: 39.00\n",
      "Episode: 4, total_reward: 56.00\n",
      "Episode: 5, total_reward: 45.00\n",
      "Episode: 6, total_reward: 37.00\n",
      "Episode: 7, total_reward: 24.00\n",
      "Episode: 8, total_reward: 41.00\n",
      "Episode: 9, total_reward: 9.00\n",
      "Episode: 10, total_reward: 49.00\n",
      "Episode: 11, total_reward: 9.00\n",
      "Episode: 12, total_reward: 78.00\n",
      "Episode: 13, total_reward: 154.00\n",
      "Episode: 14, total_reward: 156.00\n",
      "Episode: 15, total_reward: 106.00\n",
      "Episode: 16, total_reward: 500.00\n",
      "Episode: 17, total_reward: 378.00\n",
      "Episode: 18, total_reward: 500.00\n"
     ]
    },
    {
     "ename": "KeyboardInterrupt",
     "evalue": "",
     "output_type": "error",
     "traceback": [
      "\u001b[1;31m---------------------------------------------------------------------------\u001b[0m",
      "\u001b[1;31mKeyboardInterrupt\u001b[0m                         Traceback (most recent call last)",
      "\u001b[1;32mc:\\Users\\danie\\vscode projects\\RL\\CartPoleRL.ipynb Cell 4\u001b[0m line \u001b[0;36m1\n\u001b[0;32m      <a href='vscode-notebook-cell:/c%3A/Users/danie/vscode%20projects/RL/CartPoleRL.ipynb#W4sZmlsZQ%3D%3D?line=8'>9</a>\u001b[0m     action \u001b[39m=\u001b[39m agent\u001b[39m.\u001b[39mget_action(state)\n\u001b[0;32m     <a href='vscode-notebook-cell:/c%3A/Users/danie/vscode%20projects/RL/CartPoleRL.ipynb#W4sZmlsZQ%3D%3D?line=9'>10</a>\u001b[0m     state, reward, done, info \u001b[39m=\u001b[39m env\u001b[39m.\u001b[39mstep(action)\n\u001b[1;32m---> <a href='vscode-notebook-cell:/c%3A/Users/danie/vscode%20projects/RL/CartPoleRL.ipynb#W4sZmlsZQ%3D%3D?line=10'>11</a>\u001b[0m     env\u001b[39m.\u001b[39;49mrender()\n\u001b[0;32m     <a href='vscode-notebook-cell:/c%3A/Users/danie/vscode%20projects/RL/CartPoleRL.ipynb#W4sZmlsZQ%3D%3D?line=11'>12</a>\u001b[0m     total_reward \u001b[39m+\u001b[39m\u001b[39m=\u001b[39m reward\n\u001b[0;32m     <a href='vscode-notebook-cell:/c%3A/Users/danie/vscode%20projects/RL/CartPoleRL.ipynb#W4sZmlsZQ%3D%3D?line=13'>14</a>\u001b[0m agent\u001b[39m.\u001b[39mupdate_model(total_reward)\n",
      "File \u001b[1;32mc:\\Users\\danie\\AppData\\Local\\Programs\\Python\\Python311\\Lib\\site-packages\\gym\\core.py:58\u001b[0m, in \u001b[0;36m_deprecate_mode.<locals>.render\u001b[1;34m(self, *args, **kwargs)\u001b[0m\n\u001b[0;32m     48\u001b[0m \u001b[39melif\u001b[39;00m \u001b[39mself\u001b[39m\u001b[39m.\u001b[39mspec \u001b[39mis\u001b[39;00m \u001b[39mnot\u001b[39;00m \u001b[39mNone\u001b[39;00m \u001b[39mand\u001b[39;00m \u001b[39m\"\u001b[39m\u001b[39mrender_mode\u001b[39m\u001b[39m\"\u001b[39m \u001b[39mnot\u001b[39;00m \u001b[39min\u001b[39;00m \u001b[39mself\u001b[39m\u001b[39m.\u001b[39mspec\u001b[39m.\u001b[39mkwargs\u001b[39m.\u001b[39mkeys():  \u001b[39m# type: ignore\u001b[39;00m\n\u001b[0;32m     49\u001b[0m     deprecation(\n\u001b[0;32m     50\u001b[0m         \u001b[39m\"\u001b[39m\u001b[39mYou are calling render method, \u001b[39m\u001b[39m\"\u001b[39m\n\u001b[0;32m     51\u001b[0m         \u001b[39m\"\u001b[39m\u001b[39mbut you didn\u001b[39m\u001b[39m'\u001b[39m\u001b[39mt specified the argument render_mode at environment initialization. \u001b[39m\u001b[39m\"\u001b[39m\n\u001b[1;32m   (...)\u001b[0m\n\u001b[0;32m     55\u001b[0m         \u001b[39m\"\u001b[39m\u001b[39mSee here for more information: https://www.gymlibrary.ml/content/api/\u001b[39m\u001b[39m\"\u001b[39m\n\u001b[0;32m     56\u001b[0m     )\n\u001b[1;32m---> 58\u001b[0m \u001b[39mreturn\u001b[39;00m render_func(\u001b[39mself\u001b[39;49m, \u001b[39m*\u001b[39;49margs, \u001b[39m*\u001b[39;49m\u001b[39m*\u001b[39;49mkwargs)\n",
      "File \u001b[1;32mc:\\Users\\danie\\AppData\\Local\\Programs\\Python\\Python311\\Lib\\site-packages\\gym\\core.py:421\u001b[0m, in \u001b[0;36mWrapper.render\u001b[1;34m(self, *args, **kwargs)\u001b[0m\n\u001b[0;32m    417\u001b[0m \u001b[39mdef\u001b[39;00m \u001b[39mrender\u001b[39m(\n\u001b[0;32m    418\u001b[0m     \u001b[39mself\u001b[39m, \u001b[39m*\u001b[39margs, \u001b[39m*\u001b[39m\u001b[39m*\u001b[39mkwargs\n\u001b[0;32m    419\u001b[0m ) \u001b[39m-\u001b[39m\u001b[39m>\u001b[39m Optional[Union[RenderFrame, List[RenderFrame]]]:\n\u001b[0;32m    420\u001b[0m \u001b[39m    \u001b[39m\u001b[39m\"\"\"Renders the environment.\"\"\"\u001b[39;00m\n\u001b[1;32m--> 421\u001b[0m     \u001b[39mreturn\u001b[39;00m \u001b[39mself\u001b[39;49m\u001b[39m.\u001b[39;49menv\u001b[39m.\u001b[39;49mrender(\u001b[39m*\u001b[39;49margs, \u001b[39m*\u001b[39;49m\u001b[39m*\u001b[39;49mkwargs)\n",
      "File \u001b[1;32mc:\\Users\\danie\\AppData\\Local\\Programs\\Python\\Python311\\Lib\\site-packages\\gym\\core.py:58\u001b[0m, in \u001b[0;36m_deprecate_mode.<locals>.render\u001b[1;34m(self, *args, **kwargs)\u001b[0m\n\u001b[0;32m     48\u001b[0m \u001b[39melif\u001b[39;00m \u001b[39mself\u001b[39m\u001b[39m.\u001b[39mspec \u001b[39mis\u001b[39;00m \u001b[39mnot\u001b[39;00m \u001b[39mNone\u001b[39;00m \u001b[39mand\u001b[39;00m \u001b[39m\"\u001b[39m\u001b[39mrender_mode\u001b[39m\u001b[39m\"\u001b[39m \u001b[39mnot\u001b[39;00m \u001b[39min\u001b[39;00m \u001b[39mself\u001b[39m\u001b[39m.\u001b[39mspec\u001b[39m.\u001b[39mkwargs\u001b[39m.\u001b[39mkeys():  \u001b[39m# type: ignore\u001b[39;00m\n\u001b[0;32m     49\u001b[0m     deprecation(\n\u001b[0;32m     50\u001b[0m         \u001b[39m\"\u001b[39m\u001b[39mYou are calling render method, \u001b[39m\u001b[39m\"\u001b[39m\n\u001b[0;32m     51\u001b[0m         \u001b[39m\"\u001b[39m\u001b[39mbut you didn\u001b[39m\u001b[39m'\u001b[39m\u001b[39mt specified the argument render_mode at environment initialization. \u001b[39m\u001b[39m\"\u001b[39m\n\u001b[1;32m   (...)\u001b[0m\n\u001b[0;32m     55\u001b[0m         \u001b[39m\"\u001b[39m\u001b[39mSee here for more information: https://www.gymlibrary.ml/content/api/\u001b[39m\u001b[39m\"\u001b[39m\n\u001b[0;32m     56\u001b[0m     )\n\u001b[1;32m---> 58\u001b[0m \u001b[39mreturn\u001b[39;00m render_func(\u001b[39mself\u001b[39;49m, \u001b[39m*\u001b[39;49margs, \u001b[39m*\u001b[39;49m\u001b[39m*\u001b[39;49mkwargs)\n",
      "File \u001b[1;32mc:\\Users\\danie\\AppData\\Local\\Programs\\Python\\Python311\\Lib\\site-packages\\gym\\wrappers\\order_enforcing.py:51\u001b[0m, in \u001b[0;36mOrderEnforcing.render\u001b[1;34m(self, *args, **kwargs)\u001b[0m\n\u001b[0;32m     46\u001b[0m \u001b[39mif\u001b[39;00m \u001b[39mnot\u001b[39;00m \u001b[39mself\u001b[39m\u001b[39m.\u001b[39m_disable_render_order_enforcing \u001b[39mand\u001b[39;00m \u001b[39mnot\u001b[39;00m \u001b[39mself\u001b[39m\u001b[39m.\u001b[39m_has_reset:\n\u001b[0;32m     47\u001b[0m     \u001b[39mraise\u001b[39;00m ResetNeeded(\n\u001b[0;32m     48\u001b[0m         \u001b[39m\"\u001b[39m\u001b[39mCannot call `env.render()` before calling `env.reset()`, if this is a intended action, \u001b[39m\u001b[39m\"\u001b[39m\n\u001b[0;32m     49\u001b[0m         \u001b[39m\"\u001b[39m\u001b[39mset `disable_render_order_enforcing=True` on the OrderEnforcer wrapper.\u001b[39m\u001b[39m\"\u001b[39m\n\u001b[0;32m     50\u001b[0m     )\n\u001b[1;32m---> 51\u001b[0m \u001b[39mreturn\u001b[39;00m \u001b[39mself\u001b[39;49m\u001b[39m.\u001b[39;49menv\u001b[39m.\u001b[39;49mrender(\u001b[39m*\u001b[39;49margs, \u001b[39m*\u001b[39;49m\u001b[39m*\u001b[39;49mkwargs)\n",
      "File \u001b[1;32mc:\\Users\\danie\\AppData\\Local\\Programs\\Python\\Python311\\Lib\\site-packages\\gym\\core.py:58\u001b[0m, in \u001b[0;36m_deprecate_mode.<locals>.render\u001b[1;34m(self, *args, **kwargs)\u001b[0m\n\u001b[0;32m     48\u001b[0m \u001b[39melif\u001b[39;00m \u001b[39mself\u001b[39m\u001b[39m.\u001b[39mspec \u001b[39mis\u001b[39;00m \u001b[39mnot\u001b[39;00m \u001b[39mNone\u001b[39;00m \u001b[39mand\u001b[39;00m \u001b[39m\"\u001b[39m\u001b[39mrender_mode\u001b[39m\u001b[39m\"\u001b[39m \u001b[39mnot\u001b[39;00m \u001b[39min\u001b[39;00m \u001b[39mself\u001b[39m\u001b[39m.\u001b[39mspec\u001b[39m.\u001b[39mkwargs\u001b[39m.\u001b[39mkeys():  \u001b[39m# type: ignore\u001b[39;00m\n\u001b[0;32m     49\u001b[0m     deprecation(\n\u001b[0;32m     50\u001b[0m         \u001b[39m\"\u001b[39m\u001b[39mYou are calling render method, \u001b[39m\u001b[39m\"\u001b[39m\n\u001b[0;32m     51\u001b[0m         \u001b[39m\"\u001b[39m\u001b[39mbut you didn\u001b[39m\u001b[39m'\u001b[39m\u001b[39mt specified the argument render_mode at environment initialization. \u001b[39m\u001b[39m\"\u001b[39m\n\u001b[1;32m   (...)\u001b[0m\n\u001b[0;32m     55\u001b[0m         \u001b[39m\"\u001b[39m\u001b[39mSee here for more information: https://www.gymlibrary.ml/content/api/\u001b[39m\u001b[39m\"\u001b[39m\n\u001b[0;32m     56\u001b[0m     )\n\u001b[1;32m---> 58\u001b[0m \u001b[39mreturn\u001b[39;00m render_func(\u001b[39mself\u001b[39;49m, \u001b[39m*\u001b[39;49margs, \u001b[39m*\u001b[39;49m\u001b[39m*\u001b[39;49mkwargs)\n",
      "File \u001b[1;32mc:\\Users\\danie\\AppData\\Local\\Programs\\Python\\Python311\\Lib\\site-packages\\gym\\core.py:421\u001b[0m, in \u001b[0;36mWrapper.render\u001b[1;34m(self, *args, **kwargs)\u001b[0m\n\u001b[0;32m    417\u001b[0m \u001b[39mdef\u001b[39;00m \u001b[39mrender\u001b[39m(\n\u001b[0;32m    418\u001b[0m     \u001b[39mself\u001b[39m, \u001b[39m*\u001b[39margs, \u001b[39m*\u001b[39m\u001b[39m*\u001b[39mkwargs\n\u001b[0;32m    419\u001b[0m ) \u001b[39m-\u001b[39m\u001b[39m>\u001b[39m Optional[Union[RenderFrame, List[RenderFrame]]]:\n\u001b[0;32m    420\u001b[0m \u001b[39m    \u001b[39m\u001b[39m\"\"\"Renders the environment.\"\"\"\u001b[39;00m\n\u001b[1;32m--> 421\u001b[0m     \u001b[39mreturn\u001b[39;00m \u001b[39mself\u001b[39;49m\u001b[39m.\u001b[39;49menv\u001b[39m.\u001b[39;49mrender(\u001b[39m*\u001b[39;49margs, \u001b[39m*\u001b[39;49m\u001b[39m*\u001b[39;49mkwargs)\n",
      "File \u001b[1;32mc:\\Users\\danie\\AppData\\Local\\Programs\\Python\\Python311\\Lib\\site-packages\\gym\\core.py:58\u001b[0m, in \u001b[0;36m_deprecate_mode.<locals>.render\u001b[1;34m(self, *args, **kwargs)\u001b[0m\n\u001b[0;32m     48\u001b[0m \u001b[39melif\u001b[39;00m \u001b[39mself\u001b[39m\u001b[39m.\u001b[39mspec \u001b[39mis\u001b[39;00m \u001b[39mnot\u001b[39;00m \u001b[39mNone\u001b[39;00m \u001b[39mand\u001b[39;00m \u001b[39m\"\u001b[39m\u001b[39mrender_mode\u001b[39m\u001b[39m\"\u001b[39m \u001b[39mnot\u001b[39;00m \u001b[39min\u001b[39;00m \u001b[39mself\u001b[39m\u001b[39m.\u001b[39mspec\u001b[39m.\u001b[39mkwargs\u001b[39m.\u001b[39mkeys():  \u001b[39m# type: ignore\u001b[39;00m\n\u001b[0;32m     49\u001b[0m     deprecation(\n\u001b[0;32m     50\u001b[0m         \u001b[39m\"\u001b[39m\u001b[39mYou are calling render method, \u001b[39m\u001b[39m\"\u001b[39m\n\u001b[0;32m     51\u001b[0m         \u001b[39m\"\u001b[39m\u001b[39mbut you didn\u001b[39m\u001b[39m'\u001b[39m\u001b[39mt specified the argument render_mode at environment initialization. \u001b[39m\u001b[39m\"\u001b[39m\n\u001b[1;32m   (...)\u001b[0m\n\u001b[0;32m     55\u001b[0m         \u001b[39m\"\u001b[39m\u001b[39mSee here for more information: https://www.gymlibrary.ml/content/api/\u001b[39m\u001b[39m\"\u001b[39m\n\u001b[0;32m     56\u001b[0m     )\n\u001b[1;32m---> 58\u001b[0m \u001b[39mreturn\u001b[39;00m render_func(\u001b[39mself\u001b[39;49m, \u001b[39m*\u001b[39;49margs, \u001b[39m*\u001b[39;49m\u001b[39m*\u001b[39;49mkwargs)\n",
      "File \u001b[1;32mc:\\Users\\danie\\AppData\\Local\\Programs\\Python\\Python311\\Lib\\site-packages\\gym\\wrappers\\env_checker.py:55\u001b[0m, in \u001b[0;36mPassiveEnvChecker.render\u001b[1;34m(self, *args, **kwargs)\u001b[0m\n\u001b[0;32m     53\u001b[0m     \u001b[39mreturn\u001b[39;00m env_render_passive_checker(\u001b[39mself\u001b[39m\u001b[39m.\u001b[39menv, \u001b[39m*\u001b[39margs, \u001b[39m*\u001b[39m\u001b[39m*\u001b[39mkwargs)\n\u001b[0;32m     54\u001b[0m \u001b[39melse\u001b[39;00m:\n\u001b[1;32m---> 55\u001b[0m     \u001b[39mreturn\u001b[39;00m \u001b[39mself\u001b[39;49m\u001b[39m.\u001b[39;49menv\u001b[39m.\u001b[39;49mrender(\u001b[39m*\u001b[39;49margs, \u001b[39m*\u001b[39;49m\u001b[39m*\u001b[39;49mkwargs)\n",
      "File \u001b[1;32mc:\\Users\\danie\\AppData\\Local\\Programs\\Python\\Python311\\Lib\\site-packages\\gym\\core.py:58\u001b[0m, in \u001b[0;36m_deprecate_mode.<locals>.render\u001b[1;34m(self, *args, **kwargs)\u001b[0m\n\u001b[0;32m     48\u001b[0m \u001b[39melif\u001b[39;00m \u001b[39mself\u001b[39m\u001b[39m.\u001b[39mspec \u001b[39mis\u001b[39;00m \u001b[39mnot\u001b[39;00m \u001b[39mNone\u001b[39;00m \u001b[39mand\u001b[39;00m \u001b[39m\"\u001b[39m\u001b[39mrender_mode\u001b[39m\u001b[39m\"\u001b[39m \u001b[39mnot\u001b[39;00m \u001b[39min\u001b[39;00m \u001b[39mself\u001b[39m\u001b[39m.\u001b[39mspec\u001b[39m.\u001b[39mkwargs\u001b[39m.\u001b[39mkeys():  \u001b[39m# type: ignore\u001b[39;00m\n\u001b[0;32m     49\u001b[0m     deprecation(\n\u001b[0;32m     50\u001b[0m         \u001b[39m\"\u001b[39m\u001b[39mYou are calling render method, \u001b[39m\u001b[39m\"\u001b[39m\n\u001b[0;32m     51\u001b[0m         \u001b[39m\"\u001b[39m\u001b[39mbut you didn\u001b[39m\u001b[39m'\u001b[39m\u001b[39mt specified the argument render_mode at environment initialization. \u001b[39m\u001b[39m\"\u001b[39m\n\u001b[1;32m   (...)\u001b[0m\n\u001b[0;32m     55\u001b[0m         \u001b[39m\"\u001b[39m\u001b[39mSee here for more information: https://www.gymlibrary.ml/content/api/\u001b[39m\u001b[39m\"\u001b[39m\n\u001b[0;32m     56\u001b[0m     )\n\u001b[1;32m---> 58\u001b[0m \u001b[39mreturn\u001b[39;00m render_func(\u001b[39mself\u001b[39;49m, \u001b[39m*\u001b[39;49margs, \u001b[39m*\u001b[39;49m\u001b[39m*\u001b[39;49mkwargs)\n",
      "File \u001b[1;32mc:\\Users\\danie\\AppData\\Local\\Programs\\Python\\Python311\\Lib\\site-packages\\gym\\envs\\classic_control\\cartpole.py:217\u001b[0m, in \u001b[0;36mCartPoleEnv.render\u001b[1;34m(self, mode)\u001b[0m\n\u001b[0;32m    215\u001b[0m     \u001b[39mreturn\u001b[39;00m \u001b[39mself\u001b[39m\u001b[39m.\u001b[39mrenderer\u001b[39m.\u001b[39mget_renders()\n\u001b[0;32m    216\u001b[0m \u001b[39melse\u001b[39;00m:\n\u001b[1;32m--> 217\u001b[0m     \u001b[39mreturn\u001b[39;00m \u001b[39mself\u001b[39;49m\u001b[39m.\u001b[39;49m_render(mode)\n",
      "File \u001b[1;32mc:\\Users\\danie\\AppData\\Local\\Programs\\Python\\Python311\\Lib\\site-packages\\gym\\envs\\classic_control\\cartpole.py:301\u001b[0m, in \u001b[0;36mCartPoleEnv._render\u001b[1;34m(self, mode)\u001b[0m\n\u001b[0;32m    299\u001b[0m \u001b[39mif\u001b[39;00m mode \u001b[39m==\u001b[39m \u001b[39m\"\u001b[39m\u001b[39mhuman\u001b[39m\u001b[39m\"\u001b[39m:\n\u001b[0;32m    300\u001b[0m     pygame\u001b[39m.\u001b[39mevent\u001b[39m.\u001b[39mpump()\n\u001b[1;32m--> 301\u001b[0m     \u001b[39mself\u001b[39;49m\u001b[39m.\u001b[39;49mclock\u001b[39m.\u001b[39;49mtick(\u001b[39mself\u001b[39;49m\u001b[39m.\u001b[39;49mmetadata[\u001b[39m\"\u001b[39;49m\u001b[39mrender_fps\u001b[39;49m\u001b[39m\"\u001b[39;49m])\n\u001b[0;32m    302\u001b[0m     pygame\u001b[39m.\u001b[39mdisplay\u001b[39m.\u001b[39mflip()\n\u001b[0;32m    304\u001b[0m \u001b[39melif\u001b[39;00m mode \u001b[39min\u001b[39;00m {\u001b[39m\"\u001b[39m\u001b[39mrgb_array\u001b[39m\u001b[39m\"\u001b[39m, \u001b[39m\"\u001b[39m\u001b[39msingle_rgb_array\u001b[39m\u001b[39m\"\u001b[39m}:\n",
      "\u001b[1;31mKeyboardInterrupt\u001b[0m: "
     ]
    },
    {
     "ename": "",
     "evalue": "",
     "output_type": "error",
     "traceback": [
      "\u001b[1;31mThe Kernel crashed while executing code in the the current cell or a previous cell. Please review the code in the cell(s) to identify a possible cause of the failure. Click <a href='https://aka.ms/vscodeJupyterKernelCrash'>here</a> for more info. View Jupyter <a href='command:jupyter.viewOutput'>log</a> for further details."
     ]
    }
   ],
   "source": [
    "agent = HillClimbingAgent(env)\n",
    "num_episodes = 100\n",
    "\n",
    "for ep in range(num_episodes):\n",
    "    state = env.reset()\n",
    "    total_reward = 0\n",
    "    done = False\n",
    "    while not done:\n",
    "        action = agent.get_action(state)\n",
    "        state, reward, done, info = env.step(action)\n",
    "        env.render()\n",
    "        total_reward += reward\n",
    "        \n",
    "    agent.update_model(total_reward)\n",
    "    print(\"Episode: {}, total_reward: {:.2f}\".format(ep, total_reward))"
   ]
  }
 ],
 "metadata": {
  "kernelspec": {
   "display_name": "Python 3",
   "language": "python",
   "name": "python3"
  },
  "language_info": {
   "codemirror_mode": {
    "name": "ipython",
    "version": 3
   },
   "file_extension": ".py",
   "mimetype": "text/x-python",
   "name": "python",
   "nbconvert_exporter": "python",
   "pygments_lexer": "ipython3",
   "version": "3.11.1"
  }
 },
 "nbformat": 4,
 "nbformat_minor": 2
}
